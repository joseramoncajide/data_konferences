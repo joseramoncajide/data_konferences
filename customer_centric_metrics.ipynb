{
 "cells": [
  {
   "cell_type": "markdown",
   "metadata": {},
   "source": [
    "# Computing customer-centric metrics of managerial interest\n",
    "\n",
    "Data Konferences - Madrid, 8th February 2018"
   ]
  },
  {
   "cell_type": "code",
   "execution_count": 1,
   "metadata": {},
   "outputs": [],
   "source": [
    "\"\"\"\n",
    "Implementation of the beta-geometric/NBD (BG/NBD) model from '\"Counting Your Customers\" the Easy Way: An Alternative to\n",
    "the Pareto/NBD Model' (Fader, Hardie and Lee 2005) http://brucehardie.com/papers/018/fader_et_al_mksc_05.pdf and\n",
    "accompanying technical note http://www.brucehardie.com/notes/004/\n",
    "\n",
    "Apache 2 License\n",
    "\"\"\"\n",
    "from math import log, exp\n",
    "\n",
    "import numpy as np\n",
    "from scipy.optimize import minimize\n",
    "\n",
    "from scipy.special import gammaln\n",
    "\n",
    "import pandas as pd\n",
    "\n",
    "def log_likelihood_individual(r, alpha, a, b, x, tx, t):\n",
    "    \"\"\"Log of the likelihood function for a given randomly chosen individual with purchase history = (x, tx, t) where\n",
    "    x is the number of transactions in time period (0, t] and tx (0 < tx <= t) is the time of the last transaction\"\"\"\n",
    "    ln_a1 = gammaln(r + x) - gammaln(r) + r * log(alpha)\n",
    "    ln_a2 = gammaln(a + b) + gammaln(b + x) - gammaln(b) - gammaln(a + b + x)\n",
    "    ln_a3 = -(r + x) * log(alpha + t)\n",
    "    a4 = 0\n",
    "    if x > 0:\n",
    "        a4 = exp(log(a) - log(b + x - 1) - (r + x) * log(alpha + tx))\n",
    "    return ln_a1 + ln_a2 + log(exp(ln_a3) + a4)\n",
    "\n",
    "\n",
    "def negative_log_likelihood(r, alpha, a, b, customers):\n",
    "    \"\"\"Sum of the individual log likelihoods\"\"\"\n",
    "    # can't put constraints on n-m minimizer so fake them here\n",
    "    if r <= 0 or alpha <= 0 or a <= 0 or b <= 0:\n",
    "        return -np.inf\n",
    "    return sum([log_likelihood_individual(r, alpha, a, b, x, tx, t) for x, tx, t in customers])\n",
    "\n",
    "\n",
    "def maximize(customers):\n",
    "    negative_ll = lambda params: -negative_log_likelihood(*params, customers=customers)\n",
    "    params0 = np.array([1., 1., 1., 1.])\n",
    "    res = minimize(negative_ll, params0, method='nelder-mead', options={'xtol': 1e-8})\n",
    "    return res\n",
    "\n",
    "\n",
    "def fit(customers):\n",
    "    res = maximize(customers)\n",
    "    if res.status != 0:\n",
    "        raise Exception(res.message)\n",
    "    return res.x\n",
    "\n",
    "\n",
    "def load_data(fname):\n",
    "    data = []\n",
    "    with open(fname) as f:\n",
    "        f.readline()\n",
    "        for line in f:\n",
    "            data.append(map(float, line.strip().split(',')[1:4]))\n",
    "    return data\n",
    "\n",
    "\n",
    "def prob_alive(r, alpha, a, b, x, t_x, T): \n",
    "    \"\"\"Computes the probability of being alive at T given r, alpha, a, b, frequency, recency and T\"\"\"\n",
    "    return 1/(1 + x * ((a/(b + x - 1)) * ((alpha + T)/(alpha + t_x))**(r + x)))\n",
    "\n",
    "\n",
    "def model_data(data):\n",
    "    r, alpha, a, b = fit(data)\n",
    "    print (\"r: {0}, alpha: {1}, a: {2}, b: {3}\".format(r, alpha, a, b))\n",
    "    return {'r':r, 'alpha':alpha ,'a':a, 'b':b }"
   ]
  },
  {
   "cell_type": "markdown",
   "metadata": {},
   "source": [
    "# Data\n",
    "---"
   ]
  },
  {
   "cell_type": "code",
   "execution_count": 2,
   "metadata": {},
   "outputs": [
    {
     "data": {
      "text/html": [
       "<div>\n",
       "<style scoped>\n",
       "    .dataframe tbody tr th:only-of-type {\n",
       "        vertical-align: middle;\n",
       "    }\n",
       "\n",
       "    .dataframe tbody tr th {\n",
       "        vertical-align: top;\n",
       "    }\n",
       "\n",
       "    .dataframe thead th {\n",
       "        text-align: right;\n",
       "    }\n",
       "</style>\n",
       "<table border=\"1\" class=\"dataframe\">\n",
       "  <thead>\n",
       "    <tr style=\"text-align: right;\">\n",
       "      <th></th>\n",
       "      <th>frequency</th>\n",
       "      <th>recency</th>\n",
       "      <th>T</th>\n",
       "    </tr>\n",
       "  </thead>\n",
       "  <tbody>\n",
       "    <tr>\n",
       "      <th>0</th>\n",
       "      <td>2.0</td>\n",
       "      <td>30.43</td>\n",
       "      <td>38.86</td>\n",
       "    </tr>\n",
       "    <tr>\n",
       "      <th>1</th>\n",
       "      <td>1.0</td>\n",
       "      <td>1.71</td>\n",
       "      <td>38.86</td>\n",
       "    </tr>\n",
       "    <tr>\n",
       "      <th>2</th>\n",
       "      <td>0.0</td>\n",
       "      <td>0.00</td>\n",
       "      <td>38.86</td>\n",
       "    </tr>\n",
       "    <tr>\n",
       "      <th>3</th>\n",
       "      <td>0.0</td>\n",
       "      <td>0.00</td>\n",
       "      <td>38.86</td>\n",
       "    </tr>\n",
       "    <tr>\n",
       "      <th>4</th>\n",
       "      <td>0.0</td>\n",
       "      <td>0.00</td>\n",
       "      <td>38.86</td>\n",
       "    </tr>\n",
       "  </tbody>\n",
       "</table>\n",
       "</div>"
      ],
      "text/plain": [
       "   frequency  recency      T\n",
       "0        2.0    30.43  38.86\n",
       "1        1.0     1.71  38.86\n",
       "2        0.0     0.00  38.86\n",
       "3        0.0     0.00  38.86\n",
       "4        0.0     0.00  38.86"
      ]
     },
     "execution_count": 2,
     "metadata": {},
     "output_type": "execute_result"
    }
   ],
   "source": [
    "# Source: http://www.brucehardie.com/notes/026/\n",
    "data = load_data('customers.csv')\n",
    "df = pd.DataFrame(data, columns = [\"frequency\", \"recency\", \"T\"])\n",
    "df.head()"
   ]
  },
  {
   "cell_type": "code",
   "execution_count": 3,
   "metadata": {},
   "outputs": [
    {
     "name": "stdout",
     "output_type": "stream",
     "text": [
      "Número de clientes: 2357\n"
     ]
    }
   ],
   "source": [
    "print (\"Número de clientes: {0}\"\n",
    "       .format(df.shape[0]))"
   ]
  },
  {
   "cell_type": "markdown",
   "metadata": {},
   "source": [
    "### Average customer purchases"
   ]
  },
  {
   "cell_type": "code",
   "execution_count": 4,
   "metadata": {},
   "outputs": [
    {
     "name": "stdout",
     "output_type": "stream",
     "text": [
      "Compras media por cliente: 2.0\n"
     ]
    }
   ],
   "source": [
    "print (\"Compras media por cliente: {0}\"\n",
    "       .format(df[df['frequency'] > 0]['frequency'].median()))"
   ]
  },
  {
   "cell_type": "markdown",
   "metadata": {},
   "source": [
    "### Repeat customer rate"
   ]
  },
  {
   "cell_type": "code",
   "execution_count": 5,
   "metadata": {},
   "outputs": [
    {
     "name": "stdout",
     "output_type": "stream",
     "text": [
      "Porcentaje de clientes con más de una compra: 40%.\n"
     ]
    }
   ],
   "source": [
    "print (\"Porcentaje de clientes con más de una compra: {0:.0f}%.\"\n",
    "       .format(round(sum(df['recency'] != 0)/float(len(df)) * 100,2 )))"
   ]
  },
  {
   "cell_type": "markdown",
   "metadata": {},
   "source": [
    "# Model\n",
    "---"
   ]
  },
  {
   "cell_type": "code",
   "execution_count": 6,
   "metadata": {},
   "outputs": [
    {
     "name": "stdout",
     "output_type": "stream",
     "text": [
      "r: 0.242592954211, alpha: 4.41353190403, a: 0.792886814457, b: 2.4257558827\n"
     ]
    }
   ],
   "source": [
    "model_params = model_data(data)\n",
    "\n",
    "#Extract model params\n",
    "r = model_params['r']\n",
    "alpha = model_params['alpha']\n",
    "a = model_params['a']\n",
    "b = model_params['b']"
   ]
  },
  {
   "cell_type": "markdown",
   "metadata": {},
   "source": [
    "### Purchase process\n",
    "$r$ and alpha $\\alpha$ describe the gamma mixing distribution of the NBD transaction process"
   ]
  },
  {
   "cell_type": "code",
   "execution_count": 7,
   "metadata": {},
   "outputs": [
    {
     "name": "stdout",
     "output_type": "stream",
     "text": [
      "Frecuencia de compra media: 1 compra cada 18.19316 semanas\n"
     ]
    }
   ],
   "source": [
    "_lambda = r/alpha\n",
    "print (\"Frecuencia de compra media: 1 compra cada {0} semanas\"\n",
    "       .format(round(1/_lambda,5 )))"
   ]
  },
  {
   "cell_type": "markdown",
   "metadata": {},
   "source": [
    "### Dropout Process\n",
    "$a$ and $b$ describe the beta mixing distribution of the beta geometric\n",
    "dropout probabilities."
   ]
  },
  {
   "cell_type": "code",
   "execution_count": 8,
   "metadata": {},
   "outputs": [
    {
     "name": "stdout",
     "output_type": "stream",
     "text": [
      "Probabilidad media de abandono tras la compra: 0.25\n"
     ]
    }
   ],
   "source": [
    "p = a/(a + b)\n",
    "print (\"Probabilidad media de abandono tras la compra: {0:.2f}\"\n",
    "       .format(p))"
   ]
  },
  {
   "cell_type": "markdown",
   "metadata": {},
   "source": [
    "### Lifetime"
   ]
  },
  {
   "cell_type": "code",
   "execution_count": 9,
   "metadata": {},
   "outputs": [
    {
     "name": "stdout",
     "output_type": "stream",
     "text": [
      "Los clientes compran durante 74 semanas\n"
     ]
    }
   ],
   "source": [
    "p_alive = 1 / (_lambda * p)\n",
    "print (\"Los clientes compran durante {0:.0f} semanas\"\n",
    "       .format(p_alive))"
   ]
  },
  {
   "cell_type": "markdown",
   "metadata": {},
   "source": [
    "### Probability that a customer with purchase history (x, tx, T) is “alive” at time T"
   ]
  },
  {
   "cell_type": "code",
   "execution_count": 10,
   "metadata": {
    "scrolled": false
   },
   "outputs": [
    {
     "name": "stdout",
     "output_type": "stream",
     "text": [
      "Probabilidad de vida de un cliente que cuya última compra ha sido hace 9 semanas: 0.6963\n"
     ]
    }
   ],
   "source": [
    "#P(Alive) of a customer who has the same recency and total time observed.\n",
    "prob_alive(r, alpha, a, b, 1, 30, 39 )\n",
    "print (\"Probabilidad de vida de un cliente que cuya última compra ha sido hace 9 semanas: {0}\"\n",
    "       .format(round(prob_alive(r, alpha, a, b, 1, 30, 39 ),4)))"
   ]
  },
  {
   "cell_type": "code",
   "execution_count": 11,
   "metadata": {},
   "outputs": [
    {
     "name": "stdout",
     "output_type": "stream",
     "text": [
      "Probabilidad de vida de un cliente que ha comprado en la última semana: 0.7537\n"
     ]
    }
   ],
   "source": [
    "print (\"Probabilidad de vida de un cliente que ha comprado en la última semana: {0}\"\n",
    "       .format(round(prob_alive(r, alpha, a, b, 1, 39, 39 ),4)))"
   ]
  }
 ],
 "metadata": {
  "kernelspec": {
   "display_name": "Python VENV",
   "language": "python",
   "name": "venv"
  },
  "language_info": {
   "codemirror_mode": {
    "name": "ipython",
    "version": 2
   },
   "file_extension": ".py",
   "mimetype": "text/x-python",
   "name": "python",
   "nbconvert_exporter": "python",
   "pygments_lexer": "ipython2",
   "version": "2.7.14"
  }
 },
 "nbformat": 4,
 "nbformat_minor": 2
}
